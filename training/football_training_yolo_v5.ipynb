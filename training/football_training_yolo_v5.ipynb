version https://git-lfs.github.com/spec/v1
oid sha256:ce1a9c51a1ee8701f2fd0c06f4dbdfc3bef123f7bce2147da5a474fa0cb02d71
size 10019
